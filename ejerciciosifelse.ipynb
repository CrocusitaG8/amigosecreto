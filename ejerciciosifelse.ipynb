{
  "nbformat": 4,
  "nbformat_minor": 0,
  "metadata": {
    "colab": {
      "provenance": [],
      "authorship_tag": "ABX9TyPU4ofJTXNiIYhBvHiM/Phw",
      "include_colab_link": true
    },
    "kernelspec": {
      "name": "python3",
      "display_name": "Python 3"
    },
    "language_info": {
      "name": "python"
    }
  },
  "cells": [
    {
      "cell_type": "markdown",
      "metadata": {
        "id": "view-in-github",
        "colab_type": "text"
      },
      "source": [
        "<a href=\"https://colab.research.google.com/github/CrocusitaG8/amigosecreto/blob/main/ejerciciosifelse.ipynb\" target=\"_parent\"><img src=\"https://colab.research.google.com/assets/colab-badge.svg\" alt=\"Open In Colab\"/></a>"
      ]
    },
    {
      "cell_type": "code",
      "execution_count": 1,
      "metadata": {
        "colab": {
          "base_uri": "https://localhost:8080/"
        },
        "id": "FlFbTAmH8f4P",
        "outputId": "485c052b-1da2-4272-ab58-7504e67ab2a5"
      },
      "outputs": [
        {
          "output_type": "stream",
          "name": "stdout",
          "text": [
            "Ingrese el primer número: 25\n",
            "Ingrese el segundo número: 32\n",
            "El segundo número es mayor: 32.0\n"
          ]
        }
      ],
      "source": [
        "#Escribe un programa que pida a la persona usuaria que proporcione dos números y muestre el número más grande.\n",
        "\n",
        "# Recolectamos los números\n",
        "num1 = float(input('Ingrese el primer número: '))\n",
        "num2 = float(input('Ingrese el segundo número: '))\n",
        "# Comparamos ambos números y determinamos cuál es el mayor\n",
        "if num1 > num2:\n",
        "    print(f'El primer número es mayor: {num1}')\n",
        "elif num2 > num1:\n",
        "    print(f'El segundo número es mayor: {num2}')\n",
        "else: # En caso de que los números sean iguales\n",
        "    print('Ambos números son iguales.')"
      ]
    },
    {
      "cell_type": "code",
      "source": [
        "#Escribe un programa que solicite el porcentaje de crecimiento de producción de una empresa e informe si hubo un crecimiento (porcentaje positivo)\n",
        "# o una disminución (porcentaje negativo).\n",
        "\n",
        "# Recolectamos el porcentaje\n",
        "variacion = float(input('Ingrese el porcentaje de crecimiento: '))\n",
        "# Verificamos si el valor es positivo o negativo con una comparación para ver si el número\n",
        "# es mayor o menor que 0\n",
        "if variacion > 0:\n",
        "    print(f'Hubo un crecimiento del {variacion}%')\n",
        "elif variacion < 0:\n",
        "    print(f'Hubo un decrecimiento del {variacion}%')\n",
        "else:\n",
        "    print('No hubo crecimiento ni decrecimiento.')"
      ],
      "metadata": {
        "colab": {
          "base_uri": "https://localhost:8080/"
        },
        "id": "nzBnjFtc99tj",
        "outputId": "82bfb8b8-05c0-4212-89de-3133572ce1c3"
      },
      "execution_count": 4,
      "outputs": [
        {
          "output_type": "stream",
          "name": "stdout",
          "text": [
            "Ingrese el porcentaje de crecimiento: 5\n",
            "Hubo un crecimiento del 5.0%\n"
          ]
        }
      ]
    },
    {
      "cell_type": "code",
      "source": [
        "#Escribe un programa que determine si una letra proporcionada por la persona usuaria es una vocal o una consonante\n",
        "\n",
        "# Recolectamos la letra del usuario en minúsculas\n",
        "letra = input('Ingrese una letra: ').lower()\n",
        "vocales = 'aeiou' # cadena que contiene todas las vocales\n",
        "# Verificamos si la letra está en las vocales con `in`\n",
        "if letra in vocales:\n",
        "    print('La letra es una vocal.')\n",
        "else:\n",
        "    print('La letra es una consonante.')"
      ],
      "metadata": {
        "colab": {
          "base_uri": "https://localhost:8080/"
        },
        "id": "qlb-oCKG-84_",
        "outputId": "2d94205d-8872-4b4d-8589-76c58da6e180"
      },
      "execution_count": 6,
      "outputs": [
        {
          "output_type": "stream",
          "name": "stdout",
          "text": [
            "Ingrese una letra: p\n",
            "La letra es una consonante.\n"
          ]
        }
      ]
    },
    {
      "cell_type": "code",
      "source": [
        "#Escribe un programa que lea valores promedio de precios de un modelo de automóvil durante 3 años consecutivos y muestre el valor más alto y más bajo entre esos tres años.\n",
        "\n",
        "# Recolectamos los precios de los 3 años\n",
        "precio_ano1 = float(input('Ingrese el precio promedio del automóvil en el primer año: '))\n",
        "precio_ano2 = float(input('Ingrese el precio promedio del automóvil en el segundo año: '))\n",
        "precio_ano3 = float(input('Ingrese el precio promedio del automóvil en el tercer año: '))\n",
        "# Determinamos el valor más alto mediante comparaciones\n",
        "mayor = precio_ano1\n",
        "if precio_ano2 > mayor:\n",
        "  mayor = precio_ano2\n",
        "if precio_ano3 > mayor:\n",
        "  mayor = precio_ano3\n",
        "# Determinamos el valor más bajo mediante comparaciones\n",
        "menor = precio_ano1\n",
        "if precio_ano2 < menor:\n",
        "  menor = precio_ano2\n",
        "if precio_ano3 < menor:\n",
        "  menor = precio_ano3\n",
        "# Mostramos los resultados\n",
        "print(f'El precio más alto fue de R$ {mayor}.')\n",
        "print(f'El precio más bajo fue de R$ {menor}.')"
      ],
      "metadata": {
        "colab": {
          "base_uri": "https://localhost:8080/"
        },
        "id": "8y_p0IQI_6LE",
        "outputId": "4b20a2df-e0bc-4282-b784-3b359ca08355"
      },
      "execution_count": 9,
      "outputs": [
        {
          "output_type": "stream",
          "name": "stdout",
          "text": [
            "Ingrese el precio promedio del automóvil en el primer año: 15\n",
            "Ingrese el precio promedio del automóvil en el segundo año: 32\n",
            "Ingrese el precio promedio del automóvil en el tercer año: 14\n",
            "El precio más alto fue de R$ 32.0.\n",
            "El precio más bajo fue de R$ 14.0.\n"
          ]
        }
      ]
    },
    {
      "cell_type": "code",
      "source": [
        "#Escribe un programa que pregunte sobre el precio de tres productos e indique cuál es el producto más barato para comprar.\n",
        "\n",
        "# Recolectamos el precio de tres productos\n",
        "producto1 = float(input('Ingrese el precio del primer producto: '))\n",
        "producto2 = float(input('Ingrese el precio del segundo producto: '))\n",
        "producto3 = float(input('Ingrese el precio del tercer producto: '))\n",
        "\n",
        "# Usamos el operador lógico `and` para determinar cuál es el precio más bajo entre los 3 productos\n",
        "# ya que esto nos permite hacer una comparación de 3 entradas\n",
        "if producto1 < producto2 and producto1 < producto3:\n",
        "    print('El primer producto es el más barato.')\n",
        "elif producto2 < producto1 and producto2 < producto3:\n",
        "    print('El segundo producto es el más barato.')\n",
        "else:\n",
        "    print('El tercer producto es el más barato.')"
      ],
      "metadata": {
        "colab": {
          "base_uri": "https://localhost:8080/"
        },
        "id": "B-K1LoP4BFgj",
        "outputId": "0b6a0483-f639-4674-ca9a-3c48715e0ac8"
      },
      "execution_count": 10,
      "outputs": [
        {
          "output_type": "stream",
          "name": "stdout",
          "text": [
            "Ingrese el precio del primer producto: 40\n",
            "Ingrese el precio del segundo producto: 15\n",
            "Ingrese el precio del tercer producto: 62\n",
            "El segundo producto es el más barato.\n"
          ]
        }
      ]
    },
    {
      "cell_type": "code",
      "source": [
        "#Escribe un programa que lea tres números y los muestre en orden descendente.\n",
        "\n",
        "# Recolectamos los 3 numeros\n",
        "num1 = float(input('Ingrese el primer número: '))\n",
        "num2 = float(input('Ingrese el segundo número: '))\n",
        "num3 = float(input('Ingrese el tercer número: '))\n",
        "\n",
        "#Comparación entre los 3 números\n",
        "if (num1 >= num2) and (num1 >= num3):\n",
        "    print(num1)\n",
        "    if num2 >= num3:\n",
        "        print(num2)\n",
        "        print(num3)\n",
        "    else:\n",
        "        print(num3)\n",
        "        print(num2)\n",
        "elif (num2 >= num1) and (num2 >= num3):\n",
        "    print(num2)\n",
        "    if num1 >= num3:\n",
        "        print(num1)\n",
        "        print(num3)\n",
        "    else:\n",
        "        print(num3)\n",
        "        print(num1)\n",
        "else:\n",
        "    print(num3)\n",
        "    if num1 >= num2:\n",
        "        print(num1)\n",
        "        print(num2)\n",
        "    else:\n",
        "        print(num2)\n",
        "        print(num1)"
      ],
      "metadata": {
        "colab": {
          "base_uri": "https://localhost:8080/"
        },
        "id": "v8bCZeiFCFs3",
        "outputId": "f146fe5e-0393-46e7-d380-1e17eec848e3"
      },
      "execution_count": 13,
      "outputs": [
        {
          "output_type": "stream",
          "name": "stdout",
          "text": [
            "Ingrese el primer número: 130\n",
            "Ingrese el segundo número: 135\n",
            "Ingrese el tercer número: 136\n",
            "136.0\n",
            "135.0\n",
            "130.0\n"
          ]
        }
      ]
    },
    {
      "cell_type": "code",
      "source": [
        "# Recolectamos el turno de estudio\n",
        "turno = input('Ingresa en qué turno estudias (mañana, tarde o noche): ')\n",
        "\n",
        "# Comparamos la entrada con todas las opciones y mostramos el resultado.\n",
        "if turno == 'mañana':\n",
        "  print('¡Buenos Días!')\n",
        "elif turno == 'tarde':\n",
        "  print('¡Buenas Tardes!')\n",
        "elif turno == 'noche':\n",
        "  print('¡Buenas Noches!')\n",
        "else:\n",
        "  print('¡Valor Inválido!')"
      ],
      "metadata": {
        "colab": {
          "base_uri": "https://localhost:8080/"
        },
        "id": "T7Ua8QFRDWGY",
        "outputId": "cd5047be-c300-49b1-f784-e2dfdfe0a27b"
      },
      "execution_count": 17,
      "outputs": [
        {
          "output_type": "stream",
          "name": "stdout",
          "text": [
            "Ingresa en qué turno estudias (mañana, tarde o noche): tarde\n",
            "¡Buenas Tardes!\n"
          ]
        }
      ]
    },
    {
      "cell_type": "code",
      "source": [
        "#Podemos usar el operador de módulo % para determinar si un número es par o impar.\n",
        "#Si la división entera de un número entre 2 da como resultado 0, entonces es par. Si no, es impar.\n",
        "#Esto se debe a que todos los números pares son divisibles por 2, por lo que no tienen un residuo en la división.\n",
        "\n",
        "# Recolectamos los datos\n",
        "num = int(input('Ingresa un número: '))\n",
        "\n",
        "# Verificamos si el número es par según el resultado del módulo\n",
        "if num % 2 == 0:\n",
        "    print('El número es par.')\n",
        "else:\n",
        "    print('El número es impar.')"
      ],
      "metadata": {
        "colab": {
          "base_uri": "https://localhost:8080/"
        },
        "id": "7lf1P8e2DpS_",
        "outputId": "3eb886a3-f737-481f-b83e-1657003373fa"
      },
      "execution_count": 19,
      "outputs": [
        {
          "output_type": "stream",
          "name": "stdout",
          "text": [
            "Ingresa un número: 15\n",
            "El número es impar.\n"
          ]
        }
      ]
    },
    {
      "cell_type": "code",
      "source": [
        " #Podemos usar el operador de módulo % para determinar si un número es entero o decimal.\n",
        " #Si el operador de módulo % devuelve cero en la división entera de un número entre 1, entonces es un número entero.\n",
        " #De lo contrario, es un número decimal.\n",
        "\n",
        "# Recolectamos los datos\n",
        " #Podemos usar el operador de módulo % para determinar si un número es entero o decimal.\n",
        " #Si el operador de módulo % devuelve cero en la división entera de un número entre 1, entonces es un número entero.\n",
        " #De lo contrario, es un número decimal.\n",
        "\n",
        "# Recolectamos los datos\n",
        "num = float(input('Ingresa un número: '))\n",
        "# Verificamos si el número es entero o decimal según el resultado del módulo\n",
        "if num%1 == 0:\n",
        "    print('El número es entero.')\n",
        "else:\n",
        "    print('El número es decimal.')\n",
        "    print('El número es decimal.')"
      ],
      "metadata": {
        "colab": {
          "base_uri": "https://localhost:8080/"
        },
        "id": "DldVIzhYEZbH",
        "outputId": "87ec503e-35b4-4172-8b36-033e8a0d1b69"
      },
      "execution_count": 22,
      "outputs": [
        {
          "output_type": "stream",
          "name": "stdout",
          "text": [
            "Ingresa un número: 15\n",
            "El número es entero.\n"
          ]
        }
      ]
    },
    {
      "cell_type": "code",
      "source": [
        "# Recolectamos los números a operar y solicitamos la operación deseada por el usuario\n",
        "num1 = float(input('Ingrese el primer número: '))\n",
        "num2 = float(input('Ingrese el segundo número: '))\n",
        "operación = input('Ingrese la operación deseada (+, -, *, /): ')\n",
        "\n",
        "# Verificamos la operación seleccionada y realizamos la operación matemática según la elección\n",
        "if operación == '+':\n",
        "    resultado = num1 + num2\n",
        "elif operación == '-':\n",
        "    resultado = num1 - num2\n",
        "elif operación == '*':\n",
        "    resultado = num1 * num2\n",
        "elif operación == '/':\n",
        "    resultado = num1 / num2\n",
        "else: # Especificamos un resultado en caso de que el usuario no ingrese una de las operaciones correctamente.\n",
        "    print('Operación no válida, el resultado de la operación será 0')\n",
        "    resultado = 0\n",
        "\n",
        "# Realizamos las mismas verificaciones que en preguntas anteriores para generar el informe del cálculo entre números\n",
        "if resultado % 1 == 0:\n",
        "    print('El resultado es un número entero.')\n",
        "else:\n",
        "    print('El resultado es un número decimal.')\n",
        "\n",
        "if resultado > 0:\n",
        "    print('El resultado es positivo.')\n",
        "else:\n",
        "    print('El resultado es negativo.')\n",
        "\n",
        "if resultado % 2 == 0:\n",
        "    print('El resultado es un número par.')\n",
        "else:\n",
        "    print('El resultado es un número impar.')"
      ],
      "metadata": {
        "colab": {
          "base_uri": "https://localhost:8080/"
        },
        "id": "ffLe6HFJEnHJ",
        "outputId": "e19c7a7b-f4a4-42c7-d25c-b75551dde7a0"
      },
      "execution_count": 24,
      "outputs": [
        {
          "output_type": "stream",
          "name": "stdout",
          "text": [
            "Ingrese el primer número: 255\n",
            "Ingrese el segundo número: 363\n",
            "Ingrese la operación deseada (+, -, *, /): /\n",
            "El resultado es un número decimal.\n",
            "El resultado es positivo.\n",
            "El resultado es un número impar.\n"
          ]
        }
      ]
    },
    {
      "cell_type": "code",
      "source": [
        "#Después de recolectar los valores de los 3 lados de un triángulo,\n",
        "#debemos verificar si realmente pueden formar un triángulo siguiendo el consejo\n",
        "#\"Tres lados forman un triángulo cuando la suma de cualquier par de lados es mayor que el tercer lado\".\n",
        "#Esta verificación se puede realizar con el operador \"and\". Luego, podemos verificar si todos los lados son iguales,\n",
        "#lo que forma un triángulo equilátero, o si todos los lados son diferentes, lo que forma un triángulo escaleno.\n",
        "#Estas verificaciones se pueden realizar con el operador \"and\" y los operadores \"== y \"! =\". Finalmente, utilizamos \"else\" para el caso de un triángulo isósceles.\n",
        "\n",
        "# Recolectamos los lados de un triángulo\n",
        "print('Estamos recopilando los lados de un triángulo.')\n",
        "lado1 = float(input('Ingresa la longitud del primer lado: '))\n",
        "lado2 = float(input('Ingresa la longitud del segundo lado: '))\n",
        "lado3 = float(input('Ingresa la longitud del tercer lado: '))\n",
        "\n",
        "# Verificamos si los lados pueden formar un triángulo\n",
        "if (lado1 + lado2 > lado3) and (lado2 + lado3 > lado1) and (lado1 + lado3 > lado2):\n",
        "    print('¡Los valores pueden formar un triángulo!')\n",
        "    # Comparamos los lados para determinar el tipo de triángulo\n",
        "    if (lado1 == lado2) and (lado2 == lado3):\n",
        "        print('El triángulo es equilátero.')\n",
        "    elif (lado1 != lado2) and (lado2 != lado3) and (lado1 != lado3):\n",
        "        print('El triángulo es escaleno.')\n",
        "    else:\n",
        "        print('El triángulo es isósceles.')\n",
        "else:\n",
        "    print('¡Los valores no pueden formar un triángulo!')"
      ],
      "metadata": {
        "colab": {
          "base_uri": "https://localhost:8080/"
        },
        "id": "CwwvqTReJibU",
        "outputId": "350eea59-7031-4b3b-bc5f-e7ee043906e0"
      },
      "execution_count": 26,
      "outputs": [
        {
          "output_type": "stream",
          "name": "stdout",
          "text": [
            "Estamos recopilando los lados de un triángulo.\n",
            "Ingresa la longitud del primer lado: 10\n",
            "Ingresa la longitud del segundo lado: 15\n",
            "Ingresa la longitud del tercer lado: 20\n",
            "¡Los valores pueden formar un triángulo!\n",
            "El triángulo es escaleno.\n"
          ]
        }
      ]
    },
    {
      "cell_type": "code",
      "source": [
        "# Lectura de entradas\n",
        "litros = float(input(\"Ingrese la cantidad de litros vendidos: \"))\n",
        "tipo = input(\"Ingrese el tipo de combustible (E para etanol, D para diésel): \").upper()\n",
        "\n",
        "# Precios por litro\n",
        "precio_etanol = 1.70\n",
        "precio_diesel = 2.00\n",
        "\n",
        "# Cálculo del descuento y del valor total\n",
        "if tipo == 'E':\n",
        "    precio = precio_etanol\n",
        "    if litros <= 15:\n",
        "        descuento_por_litro = 0.02\n",
        "    else:\n",
        "        descuento_por_litro = 0.04\n",
        "elif tipo == 'D':\n",
        "    precio = precio_diesel\n",
        "    if litros <= 15:\n",
        "        descuento_por_litro = 0.03\n",
        "    else:\n",
        "        descuento_por_litro = 0.05\n",
        "else:\n",
        "    print(\"Tipo de combustible inválido.\")\n",
        "    exit()\n",
        "\n",
        "# Cálculo del valor del descuento y del total a pagar\n",
        "valor_bruto = litros * precio\n",
        "descuento = valor_bruto * descuento_por_litro\n",
        "total_pagar = valor_bruto - descuento\n",
        "\n",
        "# Mostrar resultado\n",
        "print(f\"Valor a pagar: R$ {total_pagar:.2f}\")\n"
      ],
      "metadata": {
        "colab": {
          "base_uri": "https://localhost:8080/"
        },
        "id": "L1MsxU_MMhun",
        "outputId": "e573f146-6121-498a-ef35-9adeecbf9172"
      },
      "execution_count": 28,
      "outputs": [
        {
          "output_type": "stream",
          "name": "stdout",
          "text": [
            "Ingrese la cantidad de litros vendidos: 40\n",
            "Ingrese el tipo de combustible (E para etanol, D para diésel): d\n",
            "Valor a pagar: R$ 76.00\n"
          ]
        }
      ]
    },
    {
      "cell_type": "code",
      "source": [
        "# Solicitar datos al usuario\n",
        "ventas_2022 = int(input(\"Ingrese la cantidad de ventas en 2022: \"))\n",
        "ventas_2023 = int(input(\"Ingrese la cantidad de ventas en 2023: \"))\n",
        "\n",
        "# Calcular la variación porcentual\n",
        "variacion = ((ventas_2023 - ventas_2022) / ventas_2022) * 100\n",
        "\n",
        "# Mostrar la variación con dos decimales\n",
        "print(f\"Variación porcentual: {variacion:.2f}%\")\n",
        "\n",
        "# Sugerencias según el valor de la variación\n",
        "if variacion > 20:\n",
        "    print(\"Sugerencia: Bonificación para el equipo de ventas.\")\n",
        "elif 2 < variacion <= 20:\n",
        "    print(\"Sugerencia: Pequeña bonificación para el equipo de ventas.\")\n",
        "elif -10 <= variacion <= 2:\n",
        "    print(\"Sugerencia: Planificación de políticas de incentivo a las ventas.\")\n",
        "else:  # variación < -10\n",
        "    print(\"Sugerencia: Recorte de gastos.\")\n"
      ],
      "metadata": {
        "colab": {
          "base_uri": "https://localhost:8080/"
        },
        "id": "8NdM_T3mNysF",
        "outputId": "b0a7dc50-8ffe-450a-8130-df91e09dd8c9"
      },
      "execution_count": 29,
      "outputs": [
        {
          "output_type": "stream",
          "name": "stdout",
          "text": [
            "Ingrese la cantidad de ventas en 2022: 569\n",
            "Ingrese la cantidad de ventas en 2023: 356\n",
            "Variación porcentual: -37.43%\n",
            "Sugerencia: Recorte de gastos.\n"
          ]
        }
      ]
    }
  ]
}